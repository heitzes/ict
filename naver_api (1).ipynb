{
 "cells": [
  {
   "cell_type": "code",
   "execution_count": 102,
   "metadata": {},
   "outputs": [],
   "source": [
    "import urllib.request\n",
    "import ast\n",
    "from bs4 import BeautifulSoup as bs\n",
    "import requests\n",
    "\n",
    "def find_word(client_id,client_secret,keyword):\n",
    "    encText = urllib.parse.quote(keyword)\n",
    "    url = \"https://openapi.naver.com/v1/search/encyc?query=\" + encText +\"&display=3&sort=count\"\n",
    "    request = urllib.request.Request(url)\n",
    "    request.add_header(\"X-Naver-Client-Id\",client_id)\n",
    "    request.add_header(\"X-Naver-Client-Secret\",client_secret)\n",
    "    response = urllib.request.urlopen(request)\n",
    "    rescode = response.getcode()\n",
    "\n",
    "    if(rescode==200):\n",
    "        response_body = response.read()\n",
    "        mydict = ast.literal_eval(response_body.decode('utf-8'))\n",
    "    else:\n",
    "        print(\"Error Code:\" + rescode)\n",
    "    \n",
    "    for i in mydict['items']:\n",
    "        # 법률용어사전을 우선적으로 탐색\n",
    "        if '=42131&' in i['link']:\n",
    "            link = i['link']\n",
    "            break\n",
    "    # 없다면 두산백과 탐색\n",
    "    else:\n",
    "        for k in mydict['items']:\n",
    "            if 'cid=40942' in k['link']:\n",
    "                link = k['link']\n",
    "                break\n",
    "        # 둘 다 없다면 Not found 반환\n",
    "        else:\n",
    "            return 'Not found'\n",
    "        \n",
    "    # 받은 링크를 통해 웹 크롤링으로 전체 설명 반환 \n",
    "    des_req = requests.get(link)\n",
    "    des_bs = bs(des_req.text, 'html')\n",
    "    description = des_bs.find('meta', property='og:description')['content'] + '\\n\\n' + '출처: {}'.format(link)\n",
    "    return description\n"
   ]
  },
  {
   "cell_type": "code",
   "execution_count": 106,
   "metadata": {
    "scrolled": true
   },
   "outputs": [
    {
     "name": "stdout",
     "output_type": "stream",
     "text": [
      "피고인이라 함은 검사에 의하여 형사책임을 져야 할 자로 공소가 제기된 자 또는 공소가 제기된 자로 취급되어 있는 자를 말한다.피고인은 공소제기 이후의 개념이므로 수사기관에 의하여 수사의 대상으로 되어 있는 피의자와 구별되며 또한 판결확정 이전의 개념이므로 확정판결에 의하여 형의 집행을 받고 있는 수형인(受刑人)과 구별된다. 누구를 피고인으로 보아야 할 것인가는 공소장에 기재된 자인가의 여부에 따라서 판정된다는 견해(공시설(公示說))와 이에 대하여 피고인으로서 실제로 행위를 한 자를 피고인이라고 보는 설(행위설(行爲說)), 그리고 검사의 의사를 기준으로 하여 피고인을 결정하여야 한다는 설(의사설(意思說)) 등이 대립하고 있는데 형사소송에서는 전(前) 2설을 포괄하여 결정함이 타당하다는 것이 통설이다. 이러한 피고인은 판결이 확정되어 유죄로 확정될 때까지는 무죄로 추정되며 그러므로 검사가 충분하게 입증하지 못한 때에는 비록 혐의가 있더라도 범인이...\n",
      "\n",
      "출처: https://terms.naver.com/entry.nhn?docId=3654608&cid=42131&categoryId=42131\n"
     ]
    }
   ],
   "source": [
    "find_word(client_id,client_secret,'피고인')"
   ]
  }
 ],
 "metadata": {
  "kernelspec": {
   "display_name": "Python 3",
   "language": "python",
   "name": "python3"
  },
  "language_info": {
   "codemirror_mode": {
    "name": "ipython",
    "version": 3
   },
   "file_extension": ".py",
   "mimetype": "text/x-python",
   "name": "python",
   "nbconvert_exporter": "python",
   "pygments_lexer": "ipython3",
   "version": "3.7.6"
  }
 },
 "nbformat": 4,
 "nbformat_minor": 4
}
