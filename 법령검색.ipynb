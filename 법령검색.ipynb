{
 "cells": [
  {
   "cell_type": "code",
   "execution_count": 3,
   "metadata": {},
   "outputs": [],
   "source": [
    "import requests as rq\n",
    "import pandas as pd\n",
    "from bs4 import BeautifulSoup as bs\n",
    "import re"
   ]
  },
  {
   "cell_type": "code",
   "execution_count": 4,
   "metadata": {},
   "outputs": [],
   "source": [
    "import xml.etree.ElementTree as ET\n",
    "from xml.etree.ElementTree import Element, dump, ElementTree"
   ]
  },
  {
   "cell_type": "markdown",
   "metadata": {},
   "source": [
    "### 1. 법령 url 가져오기"
   ]
  },
  {
   "cell_type": "code",
   "execution_count": 24,
   "metadata": {},
   "outputs": [
    {
     "name": "stdout",
     "output_type": "stream",
     "text": [
      "036800\n"
     ]
    }
   ],
   "source": [
    "chart= {'OC':'ICTPoolC'\n",
    "        ,'target':'law'\n",
    "        ,'type':'XML'\n",
    "        ## 민법은 188036\n",
    "        ,'MST': '188036'\n",
    "        ,'JO':input()\n",
    "       }"
   ]
  },
  {
   "cell_type": "markdown",
   "metadata": {},
   "source": [
    "* #### request 모듈을 이용하여 chart의 변수들을 전송함"
   ]
  },
  {
   "cell_type": "code",
   "execution_count": 25,
   "metadata": {},
   "outputs": [],
   "source": [
    "res_chart=rq.post('http://www.law.go.kr/DRF/lawService.do?'\n",
    "            ,params=chart)"
   ]
  },
  {
   "cell_type": "markdown",
   "metadata": {},
   "source": [
    "* #### url 가져오기"
   ]
  },
  {
   "cell_type": "code",
   "execution_count": 26,
   "metadata": {
    "scrolled": true
   },
   "outputs": [
    {
     "name": "stdout",
     "output_type": "stream",
     "text": [
      "http://www.law.go.kr/DRF/lawService.do?OC=ICTPoolC&target=law&type=XML&MST=188036&JO=036800\n"
     ]
    }
   ],
   "source": [
    "print(res_chart.url)"
   ]
  },
  {
   "cell_type": "markdown",
   "metadata": {},
   "source": [
    "* #### text 가져오기\n",
    "> 아래에서 볼 수 있듯이 html 타입으로 text 읽어오는건 무의미한듯.."
   ]
  },
  {
   "cell_type": "code",
   "execution_count": 27,
   "metadata": {},
   "outputs": [
    {
     "name": "stdout",
     "output_type": "stream",
     "text": [
      "<?xml version=\"1.0\" encoding=\"UTF-8\"?>\n",
      "<법령 법령키=\"0017062016120214278\">\n",
      "<기본정보>\n",
      "<법령ID>001706</법령ID>\n",
      "<공포일자>20161202</공포일자>\n",
      "<공포번호>14278</공포번호>\n",
      "<언어>한글</언어>\n",
      "<법종구분 법종구분코드=\"A0002\">법률</법종구분>\n",
      "<법령명_한글><![CDATA[민법]]></법령명_한글>\n",
      "<법령명_한자><![CDATA[민법]]></법령명_한자>\n",
      "<법령명약칭><![CDATA[]]></법령명약칭>\n",
      "<제명변경여부>N</제명변경여부>\n",
      "<한글법령여부>N</한글법령여부>\n",
      "<편장절관>08010000</편장절관>\n",
      "<소관부처 소관부처코드=\"1270000\">법무부</소관부처>\n",
      "<전화번호>02-2110-3734, 3730</전화번호>\n",
      "<시행일자>20170603</시행일자>\n",
      "<제개정구분>일부개정</제개정구분>\n",
      "<조문별시행일자>20170603</조문별시행일자>\n",
      "<별표편집여부>Y</별표편집여부>\n",
      "<공포법령여부>Y</공포법령여부>\n",
      "</기본정보>\n",
      "<조문>\n",
      "<조문단위 조문키=\"0368001\">\n",
      "<조문번호>368</조문번호>\n",
      "<조문여부>조문</조문여부>\n",
      "<조문제목><![CDATA[공동저당과 대가의 배당, 차순위자의 대위]]></조문제목>\n",
      "<조문시행일자>20170603</조문시행일자>\n",
      "<조문이동이전>000000</조문이동이전>\n",
      "<조문이동이후>000000</조문이동이후>\n",
      "<조문변경여부>N</조문변경여부>\n",
      "\t\t\t<조문내용><![CDATA[제368조(共同抵當과 代價의 配當, 次順位者의 代位)]]></조문내용>\n",
      "\t\t\t<항>\n",
      "\t\t\t\t<항번호><![CDATA[① ]]></항번호>\n",
      "\t\t\t\t<항내용><![CDATA[ ①동일한 채권의 담보로 수개의 부동산에 저당권을 설정한 경우에 그 부동산의 경매대가를 동시에 배당하는 때에는 각부동산의 경매대가에 비례하여 그 채권의 분담을 정한다.]]></항내용>\n",
      "\t\t\t</항>\n",
      "\t\t\t<항>\n",
      "\t\t\t\t<항번호><![CDATA[② ]]></항번호>\n",
      "\t\t\t\t<항내용><![CDATA[  ②전항의 저당부동산중 일부의 경매대가를 먼저 배당하는 경우에는 그 대가에서 그 채권전부의 변제를 받을 수 있다. 이 경우에 그 경매한 부동산의 차순위저당권자는 선순위저당권자가 전항의 규정에 의하여 다른 부동산의 경매대가에서 변제를 받을 수 있는 금액의 한도에서 선순위자를 대위하여 저당권을 행사할 수 있다.]]></항내용>\n",
      "\t\t\t</항>\n",
      "</조문단위>\n",
      "</조문>\n",
      "</법령>\n"
     ]
    }
   ],
   "source": [
    "print(res_chart.text)"
   ]
  },
  {
   "cell_type": "code",
   "execution_count": 12,
   "metadata": {},
   "outputs": [],
   "source": [
    "res = rq.post(res_chart.url)"
   ]
  },
  {
   "cell_type": "code",
   "execution_count": 14,
   "metadata": {},
   "outputs": [
    {
     "ename": "JSONDecodeError",
     "evalue": "Expecting value: line 18 column 1 (char 34)",
     "output_type": "error",
     "traceback": [
      "\u001b[1;31m---------------------------------------------------------------------------\u001b[0m",
      "\u001b[1;31mJSONDecodeError\u001b[0m                           Traceback (most recent call last)",
      "\u001b[1;32m<ipython-input-14-5990537c6b86>\u001b[0m in \u001b[0;36m<module>\u001b[1;34m\u001b[0m\n\u001b[1;32m----> 1\u001b[1;33m \u001b[0mres\u001b[0m\u001b[1;33m.\u001b[0m\u001b[0mjson\u001b[0m\u001b[1;33m(\u001b[0m\u001b[1;33m)\u001b[0m\u001b[1;33m\u001b[0m\u001b[1;33m\u001b[0m\u001b[0m\n\u001b[0m",
      "\u001b[1;32mC:\\python\\lib\\site-packages\\requests\\models.py\u001b[0m in \u001b[0;36mjson\u001b[1;34m(self, **kwargs)\u001b[0m\n\u001b[0;32m    817\u001b[0m                     \u001b[1;31m# used.\u001b[0m\u001b[1;33m\u001b[0m\u001b[1;33m\u001b[0m\u001b[1;33m\u001b[0m\u001b[0m\n\u001b[0;32m    818\u001b[0m                     \u001b[1;32mpass\u001b[0m\u001b[1;33m\u001b[0m\u001b[1;33m\u001b[0m\u001b[0m\n\u001b[1;32m--> 819\u001b[1;33m         \u001b[1;32mreturn\u001b[0m \u001b[0mjson\u001b[0m\u001b[1;33m.\u001b[0m\u001b[0mloads\u001b[0m\u001b[1;33m(\u001b[0m\u001b[0mself\u001b[0m\u001b[1;33m.\u001b[0m\u001b[0mtext\u001b[0m\u001b[1;33m,\u001b[0m \u001b[1;33m**\u001b[0m\u001b[0mkwargs\u001b[0m\u001b[1;33m)\u001b[0m\u001b[1;33m\u001b[0m\u001b[1;33m\u001b[0m\u001b[0m\n\u001b[0m\u001b[0;32m    820\u001b[0m \u001b[1;33m\u001b[0m\u001b[0m\n\u001b[0;32m    821\u001b[0m     \u001b[1;33m@\u001b[0m\u001b[0mproperty\u001b[0m\u001b[1;33m\u001b[0m\u001b[1;33m\u001b[0m\u001b[0m\n",
      "\u001b[1;32mC:\\python\\lib\\json\\__init__.py\u001b[0m in \u001b[0;36mloads\u001b[1;34m(s, encoding, cls, object_hook, parse_float, parse_int, parse_constant, object_pairs_hook, **kw)\u001b[0m\n\u001b[0;32m    346\u001b[0m             \u001b[0mparse_int\u001b[0m \u001b[1;32mis\u001b[0m \u001b[1;32mNone\u001b[0m \u001b[1;32mand\u001b[0m \u001b[0mparse_float\u001b[0m \u001b[1;32mis\u001b[0m \u001b[1;32mNone\u001b[0m \u001b[1;32mand\u001b[0m\u001b[1;33m\u001b[0m\u001b[1;33m\u001b[0m\u001b[0m\n\u001b[0;32m    347\u001b[0m             parse_constant is None and object_pairs_hook is None and not kw):\n\u001b[1;32m--> 348\u001b[1;33m         \u001b[1;32mreturn\u001b[0m \u001b[0m_default_decoder\u001b[0m\u001b[1;33m.\u001b[0m\u001b[0mdecode\u001b[0m\u001b[1;33m(\u001b[0m\u001b[0ms\u001b[0m\u001b[1;33m)\u001b[0m\u001b[1;33m\u001b[0m\u001b[1;33m\u001b[0m\u001b[0m\n\u001b[0m\u001b[0;32m    349\u001b[0m     \u001b[1;32mif\u001b[0m \u001b[0mcls\u001b[0m \u001b[1;32mis\u001b[0m \u001b[1;32mNone\u001b[0m\u001b[1;33m:\u001b[0m\u001b[1;33m\u001b[0m\u001b[1;33m\u001b[0m\u001b[0m\n\u001b[0;32m    350\u001b[0m         \u001b[0mcls\u001b[0m \u001b[1;33m=\u001b[0m \u001b[0mJSONDecoder\u001b[0m\u001b[1;33m\u001b[0m\u001b[1;33m\u001b[0m\u001b[0m\n",
      "\u001b[1;32mC:\\python\\lib\\json\\decoder.py\u001b[0m in \u001b[0;36mdecode\u001b[1;34m(self, s, _w)\u001b[0m\n\u001b[0;32m    335\u001b[0m \u001b[1;33m\u001b[0m\u001b[0m\n\u001b[0;32m    336\u001b[0m         \"\"\"\n\u001b[1;32m--> 337\u001b[1;33m         \u001b[0mobj\u001b[0m\u001b[1;33m,\u001b[0m \u001b[0mend\u001b[0m \u001b[1;33m=\u001b[0m \u001b[0mself\u001b[0m\u001b[1;33m.\u001b[0m\u001b[0mraw_decode\u001b[0m\u001b[1;33m(\u001b[0m\u001b[0ms\u001b[0m\u001b[1;33m,\u001b[0m \u001b[0midx\u001b[0m\u001b[1;33m=\u001b[0m\u001b[0m_w\u001b[0m\u001b[1;33m(\u001b[0m\u001b[0ms\u001b[0m\u001b[1;33m,\u001b[0m \u001b[1;36m0\u001b[0m\u001b[1;33m)\u001b[0m\u001b[1;33m.\u001b[0m\u001b[0mend\u001b[0m\u001b[1;33m(\u001b[0m\u001b[1;33m)\u001b[0m\u001b[1;33m)\u001b[0m\u001b[1;33m\u001b[0m\u001b[1;33m\u001b[0m\u001b[0m\n\u001b[0m\u001b[0;32m    338\u001b[0m         \u001b[0mend\u001b[0m \u001b[1;33m=\u001b[0m \u001b[0m_w\u001b[0m\u001b[1;33m(\u001b[0m\u001b[0ms\u001b[0m\u001b[1;33m,\u001b[0m \u001b[0mend\u001b[0m\u001b[1;33m)\u001b[0m\u001b[1;33m.\u001b[0m\u001b[0mend\u001b[0m\u001b[1;33m(\u001b[0m\u001b[1;33m)\u001b[0m\u001b[1;33m\u001b[0m\u001b[1;33m\u001b[0m\u001b[0m\n\u001b[0;32m    339\u001b[0m         \u001b[1;32mif\u001b[0m \u001b[0mend\u001b[0m \u001b[1;33m!=\u001b[0m \u001b[0mlen\u001b[0m\u001b[1;33m(\u001b[0m\u001b[0ms\u001b[0m\u001b[1;33m)\u001b[0m\u001b[1;33m:\u001b[0m\u001b[1;33m\u001b[0m\u001b[1;33m\u001b[0m\u001b[0m\n",
      "\u001b[1;32mC:\\python\\lib\\json\\decoder.py\u001b[0m in \u001b[0;36mraw_decode\u001b[1;34m(self, s, idx)\u001b[0m\n\u001b[0;32m    353\u001b[0m             \u001b[0mobj\u001b[0m\u001b[1;33m,\u001b[0m \u001b[0mend\u001b[0m \u001b[1;33m=\u001b[0m \u001b[0mself\u001b[0m\u001b[1;33m.\u001b[0m\u001b[0mscan_once\u001b[0m\u001b[1;33m(\u001b[0m\u001b[0ms\u001b[0m\u001b[1;33m,\u001b[0m \u001b[0midx\u001b[0m\u001b[1;33m)\u001b[0m\u001b[1;33m\u001b[0m\u001b[1;33m\u001b[0m\u001b[0m\n\u001b[0;32m    354\u001b[0m         \u001b[1;32mexcept\u001b[0m \u001b[0mStopIteration\u001b[0m \u001b[1;32mas\u001b[0m \u001b[0merr\u001b[0m\u001b[1;33m:\u001b[0m\u001b[1;33m\u001b[0m\u001b[1;33m\u001b[0m\u001b[0m\n\u001b[1;32m--> 355\u001b[1;33m             \u001b[1;32mraise\u001b[0m \u001b[0mJSONDecodeError\u001b[0m\u001b[1;33m(\u001b[0m\u001b[1;34m\"Expecting value\"\u001b[0m\u001b[1;33m,\u001b[0m \u001b[0ms\u001b[0m\u001b[1;33m,\u001b[0m \u001b[0merr\u001b[0m\u001b[1;33m.\u001b[0m\u001b[0mvalue\u001b[0m\u001b[1;33m)\u001b[0m \u001b[1;32mfrom\u001b[0m \u001b[1;32mNone\u001b[0m\u001b[1;33m\u001b[0m\u001b[1;33m\u001b[0m\u001b[0m\n\u001b[0m\u001b[0;32m    356\u001b[0m         \u001b[1;32mreturn\u001b[0m \u001b[0mobj\u001b[0m\u001b[1;33m,\u001b[0m \u001b[0mend\u001b[0m\u001b[1;33m\u001b[0m\u001b[1;33m\u001b[0m\u001b[0m\n",
      "\u001b[1;31mJSONDecodeError\u001b[0m: Expecting value: line 18 column 1 (char 34)"
     ]
    }
   ],
   "source": [
    "res.json()"
   ]
  },
  {
   "cell_type": "markdown",
   "metadata": {},
   "source": [
    "### 2. 크롤링으로 법령정보만 가져오기\n"
   ]
  },
  {
   "cell_type": "code",
   "execution_count": 82,
   "metadata": {},
   "outputs": [],
   "source": [
    "soup = bs(res_chart.text,\"xml\")\n",
    "hang = soup.find_all(\"항내용\")"
   ]
  },
  {
   "cell_type": "code",
   "execution_count": 97,
   "metadata": {},
   "outputs": [
    {
     "name": "stdout",
     "output_type": "stream",
     "text": [
      "제1항:  동일한 채권의 담보로 수개의 부동산에 저당권을 설정한 경우에 그 부동산의 경매대가를 동시에 배당하는 때에는 각부동산의 경매대가에 비례하여 그 채권의 분담을 정한다.\n",
      "제2항:  전항의 저당부동산중 일부의 경매대가를 먼저 배당하는 경우에는 그 대가에서 그 채권전부의 변제를 받을 수 있다. 이 경우에 그 경매한 부동산의 차순위저당권자는 선순위저당권자가 전항의 규정에 의하여 다른 부동산의 경매대가에서 변제를 받을 수 있는 금액의 한도에서 선순위자를 대위하여 저당권을 행사할 수 있다.\n"
     ]
    }
   ],
   "source": [
    "for i in range(len(hang)):\n",
    "    print(\"제{}항: \".format(i+1),hang[i].text.strip()[1:])"
   ]
  },
  {
   "cell_type": "markdown",
   "metadata": {},
   "source": [
    "### 3. 함수화\n"
   ]
  },
  {
   "cell_type": "code",
   "execution_count": 14,
   "metadata": {},
   "outputs": [],
   "source": [
    "def Law(word):\n",
    "    chart= {'OC':'ICTPoolC'\n",
    "        ,'target':'law'\n",
    "        ,'type':'XML'\n",
    "        ## 민법은 188036\n",
    "        ,'MST': '188036'\n",
    "        ,'JO': word\n",
    "       }\n",
    "    res_chart=rq.post('http://www.law.go.kr/DRF/lawService.do?',params=chart)\n",
    "    soup = bs(res_chart.text,\"xml\")\n",
    "    hang = soup.find_all(\"항내용\")\n",
    "    print(\"제 {}조\".format(int(word[:-2])),\"\\n\")\n",
    "    for i in range(len(hang)):\n",
    "        print(\"제{}항: \".format(i+1),hang[i].text.strip()[1:],\"\\n\")"
   ]
  },
  {
   "cell_type": "code",
   "execution_count": 15,
   "metadata": {},
   "outputs": [
    {
     "name": "stdout",
     "output_type": "stream",
     "text": [
      "제 368조 \n",
      "\n",
      "제1항:  동일한 채권의 담보로 수개의 부동산에 저당권을 설정한 경우에 그 부동산의 경매대가를 동시에 배당하는 때에는 각부동산의 경매대가에 비례하여 그 채권의 분담을 정한다. \n",
      "\n",
      "제2항:  전항의 저당부동산중 일부의 경매대가를 먼저 배당하는 경우에는 그 대가에서 그 채권전부의 변제를 받을 수 있다. 이 경우에 그 경매한 부동산의 차순위저당권자는 선순위저당권자가 전항의 규정에 의하여 다른 부동산의 경매대가에서 변제를 받을 수 있는 금액의 한도에서 선순위자를 대위하여 저당권을 행사할 수 있다. \n",
      "\n"
     ]
    }
   ],
   "source": [
    "Law(\"036800\")"
   ]
  },
  {
   "cell_type": "code",
   "execution_count": null,
   "metadata": {},
   "outputs": [],
   "source": []
  }
 ],
 "metadata": {
  "kernelspec": {
   "display_name": "Python 3",
   "language": "python",
   "name": "python3"
  },
  "language_info": {
   "codemirror_mode": {
    "name": "ipython",
    "version": 3
   },
   "file_extension": ".py",
   "mimetype": "text/x-python",
   "name": "python",
   "nbconvert_exporter": "python",
   "pygments_lexer": "ipython3",
   "version": "3.7.6"
  }
 },
 "nbformat": 4,
 "nbformat_minor": 4
}
